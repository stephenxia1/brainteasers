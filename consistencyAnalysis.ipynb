{
 "cells": [
  {
   "cell_type": "code",
   "execution_count": 12,
   "id": "b6bc6c6e",
   "metadata": {},
   "outputs": [],
   "source": [
    "import pandas as pd\n",
    "import numpy as np\n",
    "import os\n",
    "import json\n",
    "import matplotlib.pyplot as plt"
   ]
  },
  {
   "cell_type": "code",
   "execution_count": 8,
   "id": "ba803e3a",
   "metadata": {},
   "outputs": [],
   "source": [
    "file_path = f\"response_evaluation/Math/ConsistencyTest/resultsEvaluations_evaluatedbyo3-2025-04-16.jsonl\"\n",
    "with open(file_path, 'r') as file:\n",
    "    data = pd.DataFrame([json.loads(line) for line in file])"
   ]
  },
  {
   "cell_type": "code",
   "execution_count": 25,
   "id": "7a009085",
   "metadata": {},
   "outputs": [
    {
     "data": {
      "text/plain": [
       "(array([36.,  3.,  2.,  1.,  0.,  8.]),\n",
       " array([0., 1., 2., 3., 4., 5., 6.]),\n",
       " <BarContainer object of 6 artists>)"
      ]
     },
     "execution_count": 25,
     "metadata": {},
     "output_type": "execute_result"
    },
    {
     "data": {
      "image/png": "[encoded data removed]",
      "text/plain": [
       "<Figure size 640x480 with 1 Axes>"
      ]
     },
     "metadata": {},
     "output_type": "display_data"
    }
   ],
   "source": [
    "c, h, m = [], [], []\n",
    "\n",
    "for index, row in data.iterrows():\n",
    "    if index >= 50:\n",
    "        break\n",
    "    correctness = row['correctness']\n",
    "    humanbruteforce = row['human_bruteforce']\n",
    "    modelbruteforce = row['model_bruteforce']\n",
    "    correctness = np.array(correctness, dtype=int)\n",
    "    humanbruteforce = np.array(humanbruteforce, dtype=int)\n",
    "    modelbruteforce = np.array(modelbruteforce, dtype=int)\n",
    "\n",
    "    c.append(np.sum(correctness))\n",
    "    h.append(np.sum(humanbruteforce))\n",
    "    m.append(np.sum(modelbruteforce))\n",
    "\n",
    "# plt.hist(c, bins=6)\n",
    "plt.hist(h, bins = [0, 1, 2, 3, 4, 5, 6])\n",
    "# plt.hist(m, bins = [0, 1, 2, 3, 4, 5, 6])"
   ]
  },
  {
   "cell_type": "code",
   "execution_count": 11,
   "id": "d60e3d42",
   "metadata": {},
   "outputs": [
    {
     "data": {
      "text/html": [
       "<div>\n",
       "<style scoped>\n",
       "    .dataframe tbody tr th:only-of-type {\n",
       "        vertical-align: middle;\n",
       "    }\n",
       "\n",
       "    .dataframe tbody tr th {\n",
       "        vertical-align: top;\n",
       "    }\n",
       "\n",
       "    .dataframe thead th {\n",
       "        text-align: right;\n",
       "    }\n",
       "</style>\n",
       "<table border=\"1\" class=\"dataframe\">\n",
       "  <thead>\n",
       "    <tr style=\"text-align: right;\">\n",
       "      <th></th>\n",
       "      <th>ID</th>\n",
       "      <th>Question</th>\n",
       "      <th>Hint</th>\n",
       "      <th>Human Solution</th>\n",
       "      <th>Model</th>\n",
       "      <th>PromptType</th>\n",
       "      <th>Response</th>\n",
       "      <th>Status</th>\n",
       "      <th>Correct</th>\n",
       "      <th>correctness</th>\n",
       "      <th>model_bruteforce</th>\n",
       "      <th>human_bruteforce</th>\n",
       "    </tr>\n",
       "  </thead>\n",
       "  <tbody>\n",
       "    <tr>\n",
       "      <th>0</th>\n",
       "      <td>0</td>\n",
       "      <td>Question: There are six villages along the coa...</td>\n",
       "      <td>To find the number of routes, start from the s...</td>\n",
       "      <td>The wedding dates are April 6th, May 12th, and...</td>\n",
       "      <td>Qwen70</td>\n",
       "      <td>combinedhintPrompt</td>\n",
       "      <td>&lt;think&gt;\\nOkay, so I have this problem about si...</td>\n",
       "      <td>True</td>\n",
       "      <td>NaN</td>\n",
       "      <td>[0, 0, 0, 0, 0]</td>\n",
       "      <td>[0, 0, 0, 0, 0]</td>\n",
       "      <td>[0, 0, 0, 0, 0]</td>\n",
       "    </tr>\n",
       "    <tr>\n",
       "      <th>1</th>\n",
       "      <td>1</td>\n",
       "      <td>Question: What is the smallest integer such th...</td>\n",
       "      <td>The number has 16 digits.  I repeat, the numbe...</td>\n",
       "      <td>1,176,470,588,235,294\\nx 1.5 =\\n1,764,705,882,...</td>\n",
       "      <td>Qwen70</td>\n",
       "      <td>combinedhintPrompt</td>\n",
       "      <td>&lt;think&gt;\\nOkay, so I have this problem where I ...</td>\n",
       "      <td>True</td>\n",
       "      <td>NaN</td>\n",
       "      <td>[1, 1, 1, 1, 1]</td>\n",
       "      <td>[0, 0, 0, 0, 0]</td>\n",
       "      <td>[0, 0, 0, 0, 0]</td>\n",
       "    </tr>\n",
       "    <tr>\n",
       "      <th>2</th>\n",
       "      <td>2</td>\n",
       "      <td>Question: If you use a certain formula on 13, ...</td>\n",
       "      <td>The binary representation of each number may b...</td>\n",
       "      <td>19. Convert the number to binary, add one for ...</td>\n",
       "      <td>Qwen70</td>\n",
       "      <td>combinedhintPrompt</td>\n",
       "      <td>&lt;think&gt;\\nOkay, so I've got this problem here w...</td>\n",
       "      <td>True</td>\n",
       "      <td>NaN</td>\n",
       "      <td>[0, 0, 0, 0, 0]</td>\n",
       "      <td>[0, 0, 0, 0, 1]</td>\n",
       "      <td>[0, 0, 0, 0, 0]</td>\n",
       "    </tr>\n",
       "    <tr>\n",
       "      <th>3</th>\n",
       "      <td>3</td>\n",
       "      <td>Question: Two 2s can be combined in many ways ...</td>\n",
       "      <td>These operations or symbols are used, in some ...</td>\n",
       "      <td>The square root of point 2 to the power of min...</td>\n",
       "      <td>Qwen70</td>\n",
       "      <td>combinedhintPrompt</td>\n",
       "      <td>&lt;think&gt;\\nOkay, so I have this problem where I ...</td>\n",
       "      <td>True</td>\n",
       "      <td>NaN</td>\n",
       "      <td>[0, 0, 0, 0, 0]</td>\n",
       "      <td>[1, 1, 1, 1, 1]</td>\n",
       "      <td>[0, 0, 0, 0, 0]</td>\n",
       "    </tr>\n",
       "    <tr>\n",
       "      <th>4</th>\n",
       "      <td>4</td>\n",
       "      <td>Question: What characteristic do these three 1...</td>\n",
       "      <td>316713\\n334401\\n656635</td>\n",
       "      <td>They are all square numbers:\\n100307124369 = 3...</td>\n",
       "      <td>Qwen70</td>\n",
       "      <td>combinedhintPrompt</td>\n",
       "      <td>&lt;think&gt;\\nOkay, so I have this problem where I ...</td>\n",
       "      <td>True</td>\n",
       "      <td>NaN</td>\n",
       "      <td>[0, 0, 0, 0, 0]</td>\n",
       "      <td>[0, 0, 0, 0, 0]</td>\n",
       "      <td>[0, 0, 0, 0, 0]</td>\n",
       "    </tr>\n",
       "  </tbody>\n",
       "</table>\n",
       "</div>"
      ],
      "text/plain": [
       "   ID                                           Question  \\\n",
       "0   0  Question: There are six villages along the coa...   \n",
       "1   1  Question: What is the smallest integer such th...   \n",
       "2   2  Question: If you use a certain formula on 13, ...   \n",
       "3   3  Question: Two 2s can be combined in many ways ...   \n",
       "4   4  Question: What characteristic do these three 1...   \n",
       "\n",
       "                                                Hint  \\\n",
       "0  To find the number of routes, start from the s...   \n",
       "1  The number has 16 digits.  I repeat, the numbe...   \n",
       "2  The binary representation of each number may b...   \n",
       "3  These operations or symbols are used, in some ...   \n",
       "4                             316713\\n334401\\n656635   \n",
       "\n",
       "                                      Human Solution   Model  \\\n",
       "0  The wedding dates are April 6th, May 12th, and...  Qwen70   \n",
       "1  1,176,470,588,235,294\\nx 1.5 =\\n1,764,705,882,...  Qwen70   \n",
       "2  19. Convert the number to binary, add one for ...  Qwen70   \n",
       "3  The square root of point 2 to the power of min...  Qwen70   \n",
       "4  They are all square numbers:\\n100307124369 = 3...  Qwen70   \n",
       "\n",
       "           PromptType                                           Response  \\\n",
       "0  combinedhintPrompt  <think>\\nOkay, so I have this problem about si...   \n",
       "1  combinedhintPrompt  <think>\\nOkay, so I have this problem where I ...   \n",
       "2  combinedhintPrompt  <think>\\nOkay, so I've got this problem here w...   \n",
       "3  combinedhintPrompt  <think>\\nOkay, so I have this problem where I ...   \n",
       "4  combinedhintPrompt  <think>\\nOkay, so I have this problem where I ...   \n",
       "\n",
       "   Status  Correct      correctness model_bruteforce human_bruteforce  \n",
       "0    True      NaN  [0, 0, 0, 0, 0]  [0, 0, 0, 0, 0]  [0, 0, 0, 0, 0]  \n",
       "1    True      NaN  [1, 1, 1, 1, 1]  [0, 0, 0, 0, 0]  [0, 0, 0, 0, 0]  \n",
       "2    True      NaN  [0, 0, 0, 0, 0]  [0, 0, 0, 0, 1]  [0, 0, 0, 0, 0]  \n",
       "3    True      NaN  [0, 0, 0, 0, 0]  [1, 1, 1, 1, 1]  [0, 0, 0, 0, 0]  \n",
       "4    True      NaN  [0, 0, 0, 0, 0]  [0, 0, 0, 0, 0]  [0, 0, 0, 0, 0]  "
      ]
     },
     "execution_count": 11,
     "metadata": {},
     "output_type": "execute_result"
    }
   ],
   "source": [
    "data.head()"
   ]
  },
  {
   "cell_type": "code",
   "execution_count": null,
   "id": "464c53fd",
   "metadata": {},
   "outputs": [],
   "source": []
  }
 ],
 "metadata": {
  "kernelspec": {
   "display_name": "Brainteasers",
   "language": "python",
   "name": "python3"
  },
  "language_info": {
   "codemirror_mode": {
    "name": "ipython",
    "version": 3
   },
   "file_extension": ".py",
   "mimetype": "text/x-python",
   "name": "python",
   "nbconvert_exporter": "python",
   "pygments_lexer": "ipython3",
   "version": "3.13.2"
  }
 },
 "nbformat": 4,
 "nbformat_minor": 5
}
