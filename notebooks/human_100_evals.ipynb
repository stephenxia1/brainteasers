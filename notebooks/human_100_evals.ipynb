{
 "cells": [
  {
   "cell_type": "code",
   "execution_count": 19,
   "metadata": {},
   "outputs": [],
   "source": [
    "import numpy as np\n",
    "import pandas as pd\n",
    "import random"
   ]
  },
  {
   "cell_type": "code",
   "execution_count": 20,
   "metadata": {},
   "outputs": [],
   "source": [
    "math_data = pd.read_csv(\"../data/braingle/braingle_math_annotated.csv\")\n",
    "logic_data = pd.read_csv(\"../data/braingle/braingle_Logic_annotated.csv\")"
   ]
  },
  {
   "cell_type": "code",
   "execution_count": 21,
   "metadata": {},
   "outputs": [],
   "source": [
    "math_data_filtered = math_data[math_data['Category'] != 'x']\n",
    "logic_data_filtered = logic_data[logic_data['Category'] != 'x']"
   ]
  },
  {
   "cell_type": "code",
   "execution_count": 22,
   "metadata": {},
   "outputs": [
    {
     "name": "stdout",
     "output_type": "stream",
     "text": [
      "Index(['ID', 'Title', 'Question', 'Answer', 'Hint', 'Popularity/Fun',\n",
      "       'Difficulty', 'Category', 'Human Bruteforce'],\n",
      "      dtype='object')\n",
      "Index(['ID', 'Title', 'Question', 'Answer', 'Hint', 'Popularity/Fun',\n",
      "       'Difficulty', 'Category', 'Human Bruteforce', 'Depth', 'Width',\n",
      "       'log10 State Space', '# of clues', 'Secondary category'],\n",
      "      dtype='object')\n"
     ]
    }
   ],
   "source": [
    "print(math_data.keys())\n",
    "print(logic_data.keys())"
   ]
  },
  {
   "cell_type": "code",
   "execution_count": 23,
   "metadata": {},
   "outputs": [
    {
     "name": "stdout",
     "output_type": "stream",
     "text": [
      "242\n",
      "236\n"
     ]
    }
   ],
   "source": [
    "print(len(math_data_filtered))\n",
    "print(len(logic_data_filtered))\n",
    "math_indices = math_data_filtered['ID']\n",
    "logic_indices = logic_data_filtered['ID']"
   ]
  },
  {
   "cell_type": "code",
   "execution_count": 24,
   "metadata": {},
   "outputs": [],
   "source": [
    "# math_data_sample = math_data_filtered.sample(n=25, random_state=9)\n",
    "# logic_data_sample = logic_data_filtered.sample(n=25, random_state=9)\n",
    "\n",
    "# math_data_sample['human_bruteforce'] = -1\n",
    "# math_data_sample['human_correctness'] = -1 \n",
    "\n",
    "# logic_data_sample['human_bruteforce'] = -1\n",
    "# logic_data_sample['human_correctness'] = -1 "
   ]
  },
  {
   "cell_type": "code",
   "execution_count": 25,
   "metadata": {},
   "outputs": [],
   "source": [
    "o3_math_responses = pd.read_csv('../responses/Math/MathAll-o3Batch/resultsAll.csv')\n",
    "# qwen70_math_responses = pd.read_csv('../responses/Math/MathAll-Qwen70/resultsAll.csv')\n",
    "\n",
    "o3_logic_responses = pd.read_csv('../responses/Logic/LogicAll-o3Batch/resultsAll.csv')\n",
    "# qwen70_logic_responses = pd.read_csv('../responses/Logic/LogicAll-Qwen70/resultsAll.csv')"
   ]
  },
  {
   "cell_type": "code",
   "execution_count": 26,
   "metadata": {},
   "outputs": [
    {
     "name": "stdout",
     "output_type": "stream",
     "text": [
      "Index(['ID', 'Question', 'Hint', 'Human Solution', 'Model', 'PromptType',\n",
      "       'Response', 'Status'],\n",
      "      dtype='object')\n"
     ]
    }
   ],
   "source": [
    "print(o3_math_responses.keys())"
   ]
  },
  {
   "cell_type": "code",
   "execution_count": 27,
   "metadata": {},
   "outputs": [
    {
     "name": "stdout",
     "output_type": "stream",
     "text": [
      "932\n",
      "829\n"
     ]
    }
   ],
   "source": [
    "print(len(o3_math_responses))\n",
    "print(len(o3_logic_responses))"
   ]
  },
  {
   "cell_type": "code",
   "execution_count": 28,
   "metadata": {},
   "outputs": [],
   "source": [
    "filtered_o3_math_responses = o3_math_responses[o3_math_responses['ID'].isin(math_indices)]\n",
    "filtered_o3_logic_responses = o3_logic_responses[o3_logic_responses['ID'].isin(logic_indices)]"
   ]
  },
  {
   "cell_type": "code",
   "execution_count": 29,
   "metadata": {},
   "outputs": [
    {
     "name": "stdout",
     "output_type": "stream",
     "text": [
      "901\n",
      "776\n"
     ]
    }
   ],
   "source": [
    "print(len(filtered_o3_math_responses))\n",
    "print(len(filtered_o3_logic_responses))"
   ]
  },
  {
   "cell_type": "code",
   "execution_count": 35,
   "metadata": {},
   "outputs": [],
   "source": [
    "# math_data_sample = math_data_sample.set_index('ID')\n",
    "# logic_data_sample = logic_data_sample.set_index('ID')\n",
    "\n",
    "# qwen70_logic_responses = qwen70_logic_responses.set_index('ID')\n",
    "filtered_o3_math_responses.loc[:, 'Dataset'] = 'Math'\n",
    "filtered_o3_logic_responses.loc[:, 'Dataset'] = 'Logic'"
   ]
  },
  {
   "cell_type": "code",
   "execution_count": 36,
   "metadata": {},
   "outputs": [],
   "source": [
    "o3_all_responses = pd.concat([filtered_o3_math_responses, filtered_o3_logic_responses])"
   ]
  },
  {
   "cell_type": "code",
   "execution_count": 37,
   "metadata": {},
   "outputs": [
    {
     "name": "stdout",
     "output_type": "stream",
     "text": [
      "1677\n",
      "Index(['ID', 'Question', 'Hint', 'Human Solution', 'Model', 'PromptType',\n",
      "       'Response', 'Status', 'Dataset'],\n",
      "      dtype='object')\n"
     ]
    }
   ],
   "source": [
    "print(len(o3_all_responses))\n",
    "print(o3_all_responses.keys())"
   ]
  },
  {
   "cell_type": "code",
   "execution_count": 33,
   "metadata": {},
   "outputs": [],
   "source": [
    "o3_all_responses_sampled = (\n",
    "    o3_all_responses\n",
    "    .groupby('PromptType', group_keys=False)    # don’t add the Prompt as an extra index level\n",
    "    .sample(n=25, random_state=42)          # draw 25 rows per group\n",
    ")"
   ]
  },
  {
   "cell_type": "code",
   "execution_count": 34,
   "metadata": {},
   "outputs": [],
   "source": [
    "o3_all_responses_sampled.to_csv(\"human_100_evals.csv\")"
   ]
  },
  {
   "cell_type": "code",
   "execution_count": null,
   "metadata": {},
   "outputs": [],
   "source": []
  }
 ],
 "metadata": {
  "kernelspec": {
   "display_name": "MIOFlow",
   "language": "python",
   "name": "python3"
  },
  "language_info": {
   "codemirror_mode": {
    "name": "ipython",
    "version": 3
   },
   "file_extension": ".py",
   "mimetype": "text/x-python",
   "name": "python",
   "nbconvert_exporter": "python",
   "pygments_lexer": "ipython3",
   "version": "3.11.5"
  },
  "orig_nbformat": 4
 },
 "nbformat": 4,
 "nbformat_minor": 2
}
